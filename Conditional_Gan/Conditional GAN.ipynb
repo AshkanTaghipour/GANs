{
 "cells": [
  {
   "cell_type": "code",
   "execution_count": null,
   "id": "3c789887",
   "metadata": {},
   "outputs": [],
   "source": [
    "import torch\n",
    "import torch.nn as nn\n",
    "from tqdm.auto import tqdm\n",
    "import torchvision\n",
    "import torchvision.transforms as transforms\n",
    "from torchvision.datasets import MNIST\n",
    "from torchvision.utils import make_grid\n",
    "from torch.utils.data import DataLoader\n",
    "import matplotlib.pyplot as plt\n",
    "import torch.nn.functional as F\n",
    "torch.manual_seed(0) # Set for our testing purposes, please do not change!"
   ]
  },
  {
   "cell_type": "code",
   "execution_count": null,
   "id": "ed562a0e",
   "metadata": {},
   "outputs": [],
   "source": [
    "class Generator(nn.Module):\n",
    "    def __init__(self, input_dim=10, output_chan=1, hidden_dim=64):\n",
    "        super(Generator, self).__init__()\n",
    "        self.input_dim = input_dim\n",
    "        self.gen = nn.Sequential(\n",
    "            self.gen_block(input_dim, hidden_dim * 4, 3, 2), # image : Batch * (64*4) * (3) * (3)\n",
    "            self.gen_block(hidden_dim * 4, hidden_dim * 2, 4, 1), # image : Batch *  (64*2) * (6) * (6)\n",
    "            self.gen_block(hidden_dim * 2, hidden_dim, 3, 2), # image : Batch *  (64) * (13) * (13)\n",
    "            self.gen_block(hidden_dim, output_chan, 4, 2, final_layer=True), # image : Batch *  (1) * (28) * (28)\n",
    "        )      \n",
    "           \n",
    "    def gen_block(self, input_channels, output_channels, kernel_size, stride, final_layer=False):\n",
    "        \n",
    "        if not final_layer:\n",
    "            return nn.Sequential(\n",
    "                nn.ConvTranspose2d(in_channels=input_channels, out_channels=output_channels, kernel_size=kernel_size,\n",
    "                stride=stride),\n",
    "                nn.BatchNorm2d(output_channels),\n",
    "                nn.ReLU(inplace=True),\n",
    "            )\n",
    "        else:\n",
    "            return nn.Sequential(\n",
    "                nn.ConvTranspose2d(in_channels=input_channels, out_channels=output_channels, kernel_size=kernel_size,\n",
    "                stride=stride),\n",
    "                nn.Tanh())\n",
    "        \n",
    "    def forward(self, x):\n",
    "        return self.gen(x)\n",
    "    "
   ]
  },
  {
   "cell_type": "code",
   "execution_count": null,
   "id": "b5faad86",
   "metadata": {},
   "outputs": [],
   "source": [
    "class Disc(nn.Module):\n",
    "    def __init__(self, image_chan=1, hidden_dim=64):\n",
    "        super(Disc, self).__init__()\n",
    "        self.disc = nn.Sequential(   # Initial Image: batch * 1 * 28 * 28\n",
    "            self.critic_block(image_chan, hidden_dim, 4, 2), # Image: Batch * 64 * 13 * 13\n",
    "            self.critic_block(hidden_dim, hidden_dim * 2, 4, 2), # Image: Batch * 64 * 5 * 5\n",
    "            self.critic_block(hidden_dim * 2, 1, 4, 2, final_layer=True), # Image: Batch * 1 * 1 * 1      \n",
    "        )\n",
    "        \n",
    "    def critic_block(self,input_channels, output_channels, kernel_size, stride, final_layer=False):\n",
    "        \n",
    "        if not final_layer:\n",
    "            return nn.Sequential(\n",
    "                nn.Conv2d(input_channels, output_channels, kernel_size, stride),\n",
    "                nn.BatchNorm2d(output_channels),\n",
    "                nn.LeakyReLU(0.2, inplace=True)\n",
    "            )\n",
    "        else:\n",
    "            return nn.Sequential(\n",
    "                nn.Conv2d(input_channels, output_channels, kernel_size, stride),               \n",
    "            )\n",
    "        \n",
    "    def forward(self, x):\n",
    "        return self.disc(x)"
   ]
  },
  {
   "cell_type": "code",
   "execution_count": null,
   "id": "a5b036d2",
   "metadata": {},
   "outputs": [],
   "source": [
    "def initilalize_weights(model):\n",
    "    for m in model.modules():\n",
    "        if isinstance(m, (nn.Conv2d, nn.ConvTranspose2d, nn.BatchNorm2d)):\n",
    "            nn.init.normal_(m.weight.data, 0.0, 0.02)"
   ]
  },
  {
   "cell_type": "code",
   "execution_count": null,
   "id": "53477edc",
   "metadata": {},
   "outputs": [],
   "source": [
    "def test():\n",
    "    B, C, H, W = 64, 1, 28, 28\n",
    "    input_dim=10\n",
    "    x = torch.randn((B, C, H, W))\n",
    "    disc = Disc(1, 64)\n",
    "    initilalize_weights(disc)\n",
    "    assert disc(x).shape == (B, 1, 1, 1)\n",
    "    gen = Generator(input_dim=10, output_chan=1, hidden_dim=64)\n",
    "    z = torch.randn(B, input_dim, 1, 1)\n",
    "    initilalize_weights(gen)\n",
    "    assert gen(z).shape == (B, C, H, W)\n",
    "    print(\"Success\")\n",
    "    "
   ]
  },
  {
   "cell_type": "code",
   "execution_count": null,
   "id": "d70d43a4",
   "metadata": {},
   "outputs": [],
   "source": [
    "test()"
   ]
  },
  {
   "cell_type": "code",
   "execution_count": null,
   "id": "8708463c",
   "metadata": {},
   "outputs": [],
   "source": [
    "#Hyperparameter setting\n",
    "device = torch.device(\"cuda\" if torch.cuda.is_available() else \"cpu\")\n",
    "lr = 2e-4\n",
    "num_disc = 5\n",
    "LAMBDA = 10\n",
    "batch_size = 128\n",
    "image_size = 28\n",
    "image_chan = 1\n",
    "num_epoches = 200\n",
    "hidden_dim = 64\n",
    "feature_gen = 16\n",
    "z_dim = 64\n",
    "display_step = 500\n",
    "Transforms = transforms.Compose([transforms.Resize(image_size),\n",
    "                                 transforms.ToTensor(),\n",
    "                                 transforms.Normalize([0.5 for _ in range(image_chan)], [0.5 for _ in range(image_chan)]),\n",
    "                                 ])\n",
    "## Data Loading\n",
    "train_dataset = MNIST(root=\"/.\", train=True, transform=Transforms, download=True)\n",
    "train_loader = DataLoader(dataset=train_dataset, batch_size=batch_size, shuffle=True)\n",
    "num_class = len(train_loader.dataset.classes)\n"
   ]
  },
  {
   "cell_type": "code",
   "execution_count": null,
   "id": "64545a6d",
   "metadata": {},
   "outputs": [],
   "source": [
    "for batch_idx, (data, labels) in enumerate(train_loader):\n",
    "    #print(data.shape)\n",
    "    #print(F.one_hot(labels).unsqueeze(2).unsqueeze(3).shape)\n",
    "    #one_hot_class = F.one_hot(labels).unsqueeze(2).unsqueeze(3)\n",
    "    #print(one_hot_class.shape)\n",
    "    #p = one_hot_class[0]\n",
    "    #print(len(labels))\n",
    "    #print(p.repeat(1,1,data.shape[2], data.shape[3])[4])\n",
    "    #print(one_hot_class.repeat(1,1,data.shape[2], data.shape[3]).shape)\n",
    "    break\n",
    "train_loader.dataset.data[0].unsqueeze(0).shape\n",
    "len(train_loader.dataset)"
   ]
  },
  {
   "cell_type": "code",
   "execution_count": null,
   "id": "73cc0363",
   "metadata": {},
   "outputs": [],
   "source": [
    "#print(p.repeat(1,1,data.shape[2], data.shape[3])[:,6,:,:])"
   ]
  },
  {
   "cell_type": "code",
   "execution_count": null,
   "id": "c235938a",
   "metadata": {},
   "outputs": [],
   "source": [
    "def Disc_input_hot_encoded(data, labels, num_class):\n",
    "    '''\n",
    "    data = real data (size: B*C*H*W)\n",
    "    labels = real labels (size: B)\n",
    "    Takes the  data, labels and num_class & returns \n",
    "    one hot encode channels of the class ( size: B * (num_class+C) * H * W)\n",
    "    '''\n",
    "    B, C, H, W = data.shape\n",
    "    one_hot_encoding = F.one_hot(labels, num_class) # image size: B * num_class\n",
    "    one_hot_label = one_hot_encoding.unsqueeze(2).unsqueeze(3) # image size: B * num_class * 1 * 1 \n",
    "    one_hot_channels = one_hot_label.repeat(1,1,data.shape[2], data.shape[3]) # image size: B * C * H * W\n",
    "    disc_input = torch.cat((data, one_hot_channels), 1) # image size: B * (num_class+C) * H * W\n",
    "    #disc_dim = disc_input.shape[1]\n",
    "    return disc_input"
   ]
  },
  {
   "cell_type": "code",
   "execution_count": null,
   "id": "78730a5f",
   "metadata": {},
   "outputs": [],
   "source": [
    "def test_disc_encoded():\n",
    "    data = torch.randn(128, 1, 28, 28)\n",
    "    labels = torch.randint(0, 10, (128,))\n",
    "    num_class = 10\n",
    "    disc_input = Disc_input_hot_encoded(data, labels, num_class)\n",
    "    assert disc_input.shape == (128, 11, 28, 28)\n",
    "    print(\"success\")\n",
    "    "
   ]
  },
  {
   "cell_type": "code",
   "execution_count": null,
   "id": "32c71f9a",
   "metadata": {},
   "outputs": [],
   "source": [
    "test_disc_encoded()"
   ]
  },
  {
   "cell_type": "code",
   "execution_count": null,
   "id": "8fb444b1",
   "metadata": {},
   "outputs": [],
   "source": [
    "# Model Instantiation\n",
    "gen = Generator(input_dim = z_dim + num_class, output_chan = image_chan + num_class, hidden_dim=64).to(device=device)\n",
    "disc = Disc(image_chan + num_class, hidden_dim=64).to(device=device)\n",
    "initilalize_weights(gen)\n",
    "initilalize_weights(disc)"
   ]
  },
  {
   "cell_type": "code",
   "execution_count": null,
   "id": "73959c63",
   "metadata": {},
   "outputs": [],
   "source": [
    "criterion = nn.BCEWithLogitsLoss()\n",
    "gen_opt = torch.optim.Adam(params=gen.parameters(),lr=lr)\n",
    "disc_opt = torch.optim.Adam(params=disc.parameters(),lr=lr)"
   ]
  },
  {
   "cell_type": "code",
   "execution_count": null,
   "id": "c976b472",
   "metadata": {},
   "outputs": [],
   "source": [
    "import tensorflow as tf\n",
    "from torch.utils.tensorboard import SummaryWriter"
   ]
  },
  {
   "cell_type": "code",
   "execution_count": null,
   "id": "a6322c52",
   "metadata": {},
   "outputs": [],
   "source": [
    "#'''\n",
    "%load_ext tensorboard\n",
    "%tensorboard --logdir logs\n",
    "#'''"
   ]
  },
  {
   "cell_type": "code",
   "execution_count": null,
   "id": "aa3f9e44",
   "metadata": {},
   "outputs": [],
   "source": [
    "def Noise(z_dim, labels, num_class):\n",
    "    one_hot_labels = F.one_hot(labels, num_class).unsqueeze(2).unsqueeze(3)\n",
    "    noise = torch.randn(B, z_dim, 1, 1)\n",
    "    return torch.cat((noise,one_hot_labels), 1)"
   ]
  },
  {
   "cell_type": "code",
   "execution_count": null,
   "id": "64672742",
   "metadata": {},
   "outputs": [],
   "source": [
    "# Training Process\n",
    "fixed_noise = torch.randn(batch_size, z_dim + num_class, 1, 1).to(device=device) # used for Tensorboard\n",
    "Write_real = SummaryWriter(f\"Logs/real\")\n",
    "Writer_fake = SummaryWriter(f\"Logs/fake\")\n",
    "step = 0\n",
    "gen_losses = []\n",
    "disc_losses = []\n",
    "\n",
    "gen.train()\n",
    "disc.train()\n",
    "\n",
    "for epoch in range(num_epoches):\n",
    "    for batch_idx, (real, labels) in enumerate(train_loader):\n",
    "        B, C, H, W = real.shape\n",
    "        real = real.to(device=device)\n",
    "        labels = labels.to(device=device)\n",
    "        input_noise = Noise(z_dim, labels, num_class).to(device=device)\n",
    "        fake_image = gen(input_noise)\n",
    "        \n",
    "        # Train Discriminator\n",
    "        disc_input = Disc_input_hot_encoded(real, labels, num_class)\n",
    "        disc_real = disc(disc_input).view(-1) # prediction of real images\n",
    "        loss_disc_real = criterion(disc_real, torch.ones_like(disc_real)) # loss on real images       \n",
    "        disc_fake = disc(fake_image).view(-1) # prediction of fake images\n",
    "        loss_disc_fake = criterion(disc_fake, torch.zeros_like(disc_fake)) # loss on fake images \n",
    "        LOSS_DISC = (loss_disc_fake + loss_disc_real) / 2 # Total DISC LOSS\n",
    "        disc.zero_grad()\n",
    "        LOSS_DISC.backward(retain_graph=True)\n",
    "        disc_opt.step()\n",
    "        \n",
    "        # Train Generator\n",
    "        fake_pred = disc(fake_image).view(-1) # DISC prediction of fake images produced by generator\n",
    "        LOSS_GEN = criterion(fake_pred, torch.ones_like(fake_pred)) # Generator LOSS\n",
    "        gen.zero_grad()\n",
    "        LOSS_GEN.backward(retain_graph=True)\n",
    "        gen_opt.step()        \n",
    "\n",
    "        # Print losses occasionally and print to tensorboard\n",
    "    if batch_idx % 2 == 0 and batch_idx > 0:\n",
    "        print(\n",
    "            f\"Epoch [{epoch}/{num_epoches}] Batch {batch_idx}/{len(train_loader)} \\\n",
    "            Loss D: {LOSS_DISC:.4f}, loss G: {LOSS_GEN:.4f}\")\n",
    "\n",
    "        with torch.no_grad():\n",
    "            fake = gen(fixed_noise)\n",
    "                    # take out (up to) 32 examples\n",
    "            img_grid_real = torchvision.utils.make_grid(real[:32], normalize=True)\n",
    "            img_grid_fake = torchvision.utils.make_grid(fake[:32], normalize=True)\n",
    "\n",
    "            Write_real.add_image(\"Real\", img_grid_real, global_step=step)\n",
    "            Writer_fake.add_image(\"Fake\", img_grid_fake, global_step=step)\n",
    "\n",
    "        step += 1"
   ]
  },
  {
   "cell_type": "code",
   "execution_count": null,
   "id": "8282a7b7",
   "metadata": {},
   "outputs": [],
   "source": []
  }
 ],
 "metadata": {
  "kernelspec": {
   "display_name": "Python 3 (ipykernel)",
   "language": "python",
   "name": "python3"
  },
  "language_info": {
   "codemirror_mode": {
    "name": "ipython",
    "version": 3
   },
   "file_extension": ".py",
   "mimetype": "text/x-python",
   "name": "python",
   "nbconvert_exporter": "python",
   "pygments_lexer": "ipython3",
   "version": "3.9.7"
  }
 },
 "nbformat": 4,
 "nbformat_minor": 5
}
